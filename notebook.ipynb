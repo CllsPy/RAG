{
 "cells": [
  {
   "cell_type": "code",
   "execution_count": 8,
   "id": "e0739b88",
   "metadata": {},
   "outputs": [
    {
     "name": "stdout",
     "output_type": "stream",
     "text": [
      "Na vastidão digital, onde os dados fluem,\n",
      "Um novo saber emerge, um poder que ascende.\n",
      "É a máquina aprendendo, em silêncio e zelo,\n",
      "Um algoritmo que evolui, que a tudo compreende.\n",
      "\n",
      "Com redes neurais, teias intrincadas,\n",
      "Imitando o cérebro, em sua complexidade.\n",
      "Classificando, prevendo, em jornadas arriscadas,\n",
      "Desvendando padrões, com sagacidade.\n",
      "\n",
      "Em regressões e árvores de decisão,\n",
      "Busca a melhor rota, o caminho ideal.\n",
      "Reduz o erro, com precisão e razão,\n",
      "Encontrando a resposta, no vasto caudal.\n",
      "\n",
      "De reconhecimento facial à tradução instantânea,\n",
      "Do diagnóstico médico ao marketing perspicaz.\n",
      "Aplicações infinitas, uma engrenagem titânica,\n",
      "Que molda o presente e o futuro nos traz.\n",
      "\n",
      "Mas cuidado, a ética nos guia e adverte,\n",
      "Para que a máquina não se torne soberana.\n",
      "Pois o viés nos dados, pode ferir e inverter,\n",
      "E a imparcialidade se torna nossa romana.\n",
      "\n",
      "Que a inteligência artificial seja ferramenta,\n",
      "Em prol da humanidade, e não o seu algoz.\n",
      "Que a colaboração seja a eterna semente,\n",
      "Plantada no futuro, em nome do progresso e da paz.\n",
      "\n"
     ]
    }
   ],
   "source": [
    "import os\n",
    "from dotenv import load_dotenv\n",
    "from google import genai\n",
    "\n",
    "load_dotenv()\n",
    "\n",
    "GEMINI_API_KEY = os.getenv(\"GEMINI_API_KEY\")\n",
    "MODEL = \"gemini-2.0-flash\"\n",
    "PROMPT = \"Escreva um poema sobre Machine Learning\"\n",
    "\n",
    "client = genai.Client(api_key=GEMINI_API_KEY)\n",
    "\n",
    "response = client.models.generate_content(\n",
    "    model=MODEL, contents=PROMPT\n",
    ")\n",
    "\n",
    "print(response.text)"
   ]
  }
 ],
 "metadata": {
  "kernelspec": {
   "display_name": ".venv",
   "language": "python",
   "name": "python3"
  },
  "language_info": {
   "codemirror_mode": {
    "name": "ipython",
    "version": 3
   },
   "file_extension": ".py",
   "mimetype": "text/x-python",
   "name": "python",
   "nbconvert_exporter": "python",
   "pygments_lexer": "ipython3",
   "version": "3.12.3"
  }
 },
 "nbformat": 4,
 "nbformat_minor": 5
}
