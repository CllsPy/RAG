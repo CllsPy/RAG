{
 "cells": [
  {
   "cell_type": "code",
   "execution_count": 15,
   "id": "e0739b88",
   "metadata": {},
   "outputs": [
    {
     "name": "stdout",
     "output_type": "stream",
     "text": [
      "Why don't scientists trust atoms?\n",
      "\n",
      "Because they make up everything!\n",
      "\n"
     ]
    }
   ],
   "source": [
    "import os\n",
    "from dotenv import load_dotenv\n",
    "from google import genai\n",
    "from langchain_community.llms import Ollama\n",
    "\n",
    "load_dotenv()\n",
    "\n",
    "GEMINI_API_KEY = os.getenv(\"GEMINI_API_KEY\")\n",
    "MODEL = \"gemini-2.0-flash\"\n",
    "# MODEL = \"llama2\"\n",
    "PROMPT = \"tell me a joke\"\n",
    "\n",
    "client = genai.Client(api_key=GEMINI_API_KEY)\n",
    "\n",
    "if MODEL.startswith(\"gemini\"): \n",
    "    response = client.models.generate_content(\n",
    "        model=MODEL, contents=PROMPT\n",
    "    )\n",
    "\n",
    "    print(response.text)\n",
    "\n",
    "else:\n",
    "    model = Ollama(model=MODEL)\n",
    "    print(model.invoke(\"tell me a joke\"))\n"
   ]
  }
 ],
 "metadata": {
  "kernelspec": {
   "display_name": ".venv",
   "language": "python",
   "name": "python3"
  },
  "language_info": {
   "codemirror_mode": {
    "name": "ipython",
    "version": 3
   },
   "file_extension": ".py",
   "mimetype": "text/x-python",
   "name": "python",
   "nbconvert_exporter": "python",
   "pygments_lexer": "ipython3",
   "version": "3.12.3"
  }
 },
 "nbformat": 4,
 "nbformat_minor": 5
}
